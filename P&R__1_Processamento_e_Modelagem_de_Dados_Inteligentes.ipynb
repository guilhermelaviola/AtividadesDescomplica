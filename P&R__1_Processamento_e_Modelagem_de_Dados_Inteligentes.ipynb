{
  "nbformat": 4,
  "nbformat_minor": 0,
  "metadata": {
    "colab": {
      "provenance": [],
      "authorship_tag": "ABX9TyOJMqP0dcm4XBEyii6eS0OQ",
      "include_colab_link": true
    },
    "kernelspec": {
      "name": "python3",
      "display_name": "Python 3"
    },
    "language_info": {
      "name": "python"
    }
  },
  "cells": [
    {
      "cell_type": "markdown",
      "metadata": {
        "id": "view-in-github",
        "colab_type": "text"
      },
      "source": [
        "<a href=\"https://colab.research.google.com/github/guilhermelaviola/AtividadesDescomplica/blob/main/P%26R__1_Processamento_e_Modelagem_de_Dados_Inteligentes.ipynb\" target=\"_parent\"><img src=\"https://colab.research.google.com/assets/colab-badge.svg\" alt=\"Open In Colab\"/></a>"
      ]
    },
    {
      "cell_type": "markdown",
      "source": [
        "# Pensar & Responder\n",
        "\n",
        "Você precisa analisar os dados de vendas de uma loja de roupas e apresentar um relatório que mostre a quantidade vendida, o valor total arrecadado e o preço médio dos produtos vendidos em cada mês do ano. Como você poderia fazer isso utilizando as ferramentas aprendidas em aula? Descreva os passos de forma escrita ou escrever o código em Python que você utilizaria para realizar essa análise.\n",
        "\n",
        "Código para gerar o arquivo de vendas:"
      ],
      "metadata": {
        "id": "41IJZnUJ4Hkq"
      }
    },
    {
      "cell_type": "code",
      "execution_count": 1,
      "metadata": {
        "id": "THoBbQ203VFq"
      },
      "outputs": [],
      "source": [
        "# Importando bibliotecas:\n",
        "import pandas as pd\n",
        "import numpy as np"
      ]
    },
    {
      "cell_type": "code",
      "source": [
        "# Lista com os nomes dos produtos:\n",
        "nomes_produtos = ['Camisa Manga Longa', 'Camisa Gola Polo', 'Camiseta Básica', 'Calça Jeans', 'Sapato Social']\n",
        "\n",
        "# Gerando o dataframe com 1000 Linhas:\n",
        "df = pd.DataFrame({'ID Produto':\n",
        "                   np.random.randint(1, 11, 1000),\n",
        "                   'Nome Produto':\n",
        "                   np.random.choice (nomes_produtos, 1000),\n",
        "                   'Quantidade Vendida':\n",
        "                   np.random.randint(1, 21, 1000),\n",
        "                   'Preco Unitario':\n",
        "                   np.round(np.random.uniform (10, 100, 1000), 2),\n",
        "                   'Data da Venda':\n",
        "                   np.random.choice (pd.date_range(start='2021-01-01', end='2021-12-31'), 1000)})"
      ],
      "metadata": {
        "id": "BdDPZqcC5PgP"
      },
      "execution_count": 2,
      "outputs": []
    },
    {
      "cell_type": "code",
      "source": [
        "# Mostrando o dataframe:\n",
        "df.head()"
      ],
      "metadata": {
        "colab": {
          "base_uri": "https://localhost:8080/",
          "height": 206
        },
        "id": "nDXQDCDH5RqB",
        "outputId": "c9fa610c-b767-4d1d-cc6b-b9539ca54644"
      },
      "execution_count": 9,
      "outputs": [
        {
          "output_type": "execute_result",
          "data": {
            "text/plain": [
              "   ID Produto        Nome Produto  Quantidade Vendida  Preco Unitario  \\\n",
              "0           6    Camisa Gola Polo                  12           46.62   \n",
              "1           6     Camiseta Básica                   1           84.58   \n",
              "2           9     Camiseta Básica                  20           96.45   \n",
              "3           9  Camisa Manga Longa                   2           96.24   \n",
              "4           8    Camisa Gola Polo                  17           53.73   \n",
              "\n",
              "  Data da Venda  Valor Total  Mês  \n",
              "0    2021-07-23       559.44    7  \n",
              "1    2021-01-01        84.58    1  \n",
              "2    2021-04-27      1929.00    4  \n",
              "3    2021-07-16       192.48    7  \n",
              "4    2021-11-10       913.41   11  "
            ],
            "text/html": [
              "\n",
              "  <div id=\"df-b77a8147-5708-4eb8-8cbb-106c61666baa\" class=\"colab-df-container\">\n",
              "    <div>\n",
              "<style scoped>\n",
              "    .dataframe tbody tr th:only-of-type {\n",
              "        vertical-align: middle;\n",
              "    }\n",
              "\n",
              "    .dataframe tbody tr th {\n",
              "        vertical-align: top;\n",
              "    }\n",
              "\n",
              "    .dataframe thead th {\n",
              "        text-align: right;\n",
              "    }\n",
              "</style>\n",
              "<table border=\"1\" class=\"dataframe\">\n",
              "  <thead>\n",
              "    <tr style=\"text-align: right;\">\n",
              "      <th></th>\n",
              "      <th>ID Produto</th>\n",
              "      <th>Nome Produto</th>\n",
              "      <th>Quantidade Vendida</th>\n",
              "      <th>Preco Unitario</th>\n",
              "      <th>Data da Venda</th>\n",
              "      <th>Valor Total</th>\n",
              "      <th>Mês</th>\n",
              "    </tr>\n",
              "  </thead>\n",
              "  <tbody>\n",
              "    <tr>\n",
              "      <th>0</th>\n",
              "      <td>6</td>\n",
              "      <td>Camisa Gola Polo</td>\n",
              "      <td>12</td>\n",
              "      <td>46.62</td>\n",
              "      <td>2021-07-23</td>\n",
              "      <td>559.44</td>\n",
              "      <td>7</td>\n",
              "    </tr>\n",
              "    <tr>\n",
              "      <th>1</th>\n",
              "      <td>6</td>\n",
              "      <td>Camiseta Básica</td>\n",
              "      <td>1</td>\n",
              "      <td>84.58</td>\n",
              "      <td>2021-01-01</td>\n",
              "      <td>84.58</td>\n",
              "      <td>1</td>\n",
              "    </tr>\n",
              "    <tr>\n",
              "      <th>2</th>\n",
              "      <td>9</td>\n",
              "      <td>Camiseta Básica</td>\n",
              "      <td>20</td>\n",
              "      <td>96.45</td>\n",
              "      <td>2021-04-27</td>\n",
              "      <td>1929.00</td>\n",
              "      <td>4</td>\n",
              "    </tr>\n",
              "    <tr>\n",
              "      <th>3</th>\n",
              "      <td>9</td>\n",
              "      <td>Camisa Manga Longa</td>\n",
              "      <td>2</td>\n",
              "      <td>96.24</td>\n",
              "      <td>2021-07-16</td>\n",
              "      <td>192.48</td>\n",
              "      <td>7</td>\n",
              "    </tr>\n",
              "    <tr>\n",
              "      <th>4</th>\n",
              "      <td>8</td>\n",
              "      <td>Camisa Gola Polo</td>\n",
              "      <td>17</td>\n",
              "      <td>53.73</td>\n",
              "      <td>2021-11-10</td>\n",
              "      <td>913.41</td>\n",
              "      <td>11</td>\n",
              "    </tr>\n",
              "  </tbody>\n",
              "</table>\n",
              "</div>\n",
              "    <div class=\"colab-df-buttons\">\n",
              "\n",
              "  <div class=\"colab-df-container\">\n",
              "    <button class=\"colab-df-convert\" onclick=\"convertToInteractive('df-b77a8147-5708-4eb8-8cbb-106c61666baa')\"\n",
              "            title=\"Convert this dataframe to an interactive table.\"\n",
              "            style=\"display:none;\">\n",
              "\n",
              "  <svg xmlns=\"http://www.w3.org/2000/svg\" height=\"24px\" viewBox=\"0 -960 960 960\">\n",
              "    <path d=\"M120-120v-720h720v720H120Zm60-500h600v-160H180v160Zm220 220h160v-160H400v160Zm0 220h160v-160H400v160ZM180-400h160v-160H180v160Zm440 0h160v-160H620v160ZM180-180h160v-160H180v160Zm440 0h160v-160H620v160Z\"/>\n",
              "  </svg>\n",
              "    </button>\n",
              "\n",
              "  <style>\n",
              "    .colab-df-container {\n",
              "      display:flex;\n",
              "      gap: 12px;\n",
              "    }\n",
              "\n",
              "    .colab-df-convert {\n",
              "      background-color: #E8F0FE;\n",
              "      border: none;\n",
              "      border-radius: 50%;\n",
              "      cursor: pointer;\n",
              "      display: none;\n",
              "      fill: #1967D2;\n",
              "      height: 32px;\n",
              "      padding: 0 0 0 0;\n",
              "      width: 32px;\n",
              "    }\n",
              "\n",
              "    .colab-df-convert:hover {\n",
              "      background-color: #E2EBFA;\n",
              "      box-shadow: 0px 1px 2px rgba(60, 64, 67, 0.3), 0px 1px 3px 1px rgba(60, 64, 67, 0.15);\n",
              "      fill: #174EA6;\n",
              "    }\n",
              "\n",
              "    .colab-df-buttons div {\n",
              "      margin-bottom: 4px;\n",
              "    }\n",
              "\n",
              "    [theme=dark] .colab-df-convert {\n",
              "      background-color: #3B4455;\n",
              "      fill: #D2E3FC;\n",
              "    }\n",
              "\n",
              "    [theme=dark] .colab-df-convert:hover {\n",
              "      background-color: #434B5C;\n",
              "      box-shadow: 0px 1px 3px 1px rgba(0, 0, 0, 0.15);\n",
              "      filter: drop-shadow(0px 1px 2px rgba(0, 0, 0, 0.3));\n",
              "      fill: #FFFFFF;\n",
              "    }\n",
              "  </style>\n",
              "\n",
              "    <script>\n",
              "      const buttonEl =\n",
              "        document.querySelector('#df-b77a8147-5708-4eb8-8cbb-106c61666baa button.colab-df-convert');\n",
              "      buttonEl.style.display =\n",
              "        google.colab.kernel.accessAllowed ? 'block' : 'none';\n",
              "\n",
              "      async function convertToInteractive(key) {\n",
              "        const element = document.querySelector('#df-b77a8147-5708-4eb8-8cbb-106c61666baa');\n",
              "        const dataTable =\n",
              "          await google.colab.kernel.invokeFunction('convertToInteractive',\n",
              "                                                    [key], {});\n",
              "        if (!dataTable) return;\n",
              "\n",
              "        const docLinkHtml = 'Like what you see? Visit the ' +\n",
              "          '<a target=\"_blank\" href=https://colab.research.google.com/notebooks/data_table.ipynb>data table notebook</a>'\n",
              "          + ' to learn more about interactive tables.';\n",
              "        element.innerHTML = '';\n",
              "        dataTable['output_type'] = 'display_data';\n",
              "        await google.colab.output.renderOutput(dataTable, element);\n",
              "        const docLink = document.createElement('div');\n",
              "        docLink.innerHTML = docLinkHtml;\n",
              "        element.appendChild(docLink);\n",
              "      }\n",
              "    </script>\n",
              "  </div>\n",
              "\n",
              "\n",
              "<div id=\"df-a8593bc1-373f-40b1-b606-389ce4be22df\">\n",
              "  <button class=\"colab-df-quickchart\" onclick=\"quickchart('df-a8593bc1-373f-40b1-b606-389ce4be22df')\"\n",
              "            title=\"Suggest charts\"\n",
              "            style=\"display:none;\">\n",
              "\n",
              "<svg xmlns=\"http://www.w3.org/2000/svg\" height=\"24px\"viewBox=\"0 0 24 24\"\n",
              "     width=\"24px\">\n",
              "    <g>\n",
              "        <path d=\"M19 3H5c-1.1 0-2 .9-2 2v14c0 1.1.9 2 2 2h14c1.1 0 2-.9 2-2V5c0-1.1-.9-2-2-2zM9 17H7v-7h2v7zm4 0h-2V7h2v10zm4 0h-2v-4h2v4z\"/>\n",
              "    </g>\n",
              "</svg>\n",
              "  </button>\n",
              "\n",
              "<style>\n",
              "  .colab-df-quickchart {\n",
              "      --bg-color: #E8F0FE;\n",
              "      --fill-color: #1967D2;\n",
              "      --hover-bg-color: #E2EBFA;\n",
              "      --hover-fill-color: #174EA6;\n",
              "      --disabled-fill-color: #AAA;\n",
              "      --disabled-bg-color: #DDD;\n",
              "  }\n",
              "\n",
              "  [theme=dark] .colab-df-quickchart {\n",
              "      --bg-color: #3B4455;\n",
              "      --fill-color: #D2E3FC;\n",
              "      --hover-bg-color: #434B5C;\n",
              "      --hover-fill-color: #FFFFFF;\n",
              "      --disabled-bg-color: #3B4455;\n",
              "      --disabled-fill-color: #666;\n",
              "  }\n",
              "\n",
              "  .colab-df-quickchart {\n",
              "    background-color: var(--bg-color);\n",
              "    border: none;\n",
              "    border-radius: 50%;\n",
              "    cursor: pointer;\n",
              "    display: none;\n",
              "    fill: var(--fill-color);\n",
              "    height: 32px;\n",
              "    padding: 0;\n",
              "    width: 32px;\n",
              "  }\n",
              "\n",
              "  .colab-df-quickchart:hover {\n",
              "    background-color: var(--hover-bg-color);\n",
              "    box-shadow: 0 1px 2px rgba(60, 64, 67, 0.3), 0 1px 3px 1px rgba(60, 64, 67, 0.15);\n",
              "    fill: var(--button-hover-fill-color);\n",
              "  }\n",
              "\n",
              "  .colab-df-quickchart-complete:disabled,\n",
              "  .colab-df-quickchart-complete:disabled:hover {\n",
              "    background-color: var(--disabled-bg-color);\n",
              "    fill: var(--disabled-fill-color);\n",
              "    box-shadow: none;\n",
              "  }\n",
              "\n",
              "  .colab-df-spinner {\n",
              "    border: 2px solid var(--fill-color);\n",
              "    border-color: transparent;\n",
              "    border-bottom-color: var(--fill-color);\n",
              "    animation:\n",
              "      spin 1s steps(1) infinite;\n",
              "  }\n",
              "\n",
              "  @keyframes spin {\n",
              "    0% {\n",
              "      border-color: transparent;\n",
              "      border-bottom-color: var(--fill-color);\n",
              "      border-left-color: var(--fill-color);\n",
              "    }\n",
              "    20% {\n",
              "      border-color: transparent;\n",
              "      border-left-color: var(--fill-color);\n",
              "      border-top-color: var(--fill-color);\n",
              "    }\n",
              "    30% {\n",
              "      border-color: transparent;\n",
              "      border-left-color: var(--fill-color);\n",
              "      border-top-color: var(--fill-color);\n",
              "      border-right-color: var(--fill-color);\n",
              "    }\n",
              "    40% {\n",
              "      border-color: transparent;\n",
              "      border-right-color: var(--fill-color);\n",
              "      border-top-color: var(--fill-color);\n",
              "    }\n",
              "    60% {\n",
              "      border-color: transparent;\n",
              "      border-right-color: var(--fill-color);\n",
              "    }\n",
              "    80% {\n",
              "      border-color: transparent;\n",
              "      border-right-color: var(--fill-color);\n",
              "      border-bottom-color: var(--fill-color);\n",
              "    }\n",
              "    90% {\n",
              "      border-color: transparent;\n",
              "      border-bottom-color: var(--fill-color);\n",
              "    }\n",
              "  }\n",
              "</style>\n",
              "\n",
              "  <script>\n",
              "    async function quickchart(key) {\n",
              "      const quickchartButtonEl =\n",
              "        document.querySelector('#' + key + ' button');\n",
              "      quickchartButtonEl.disabled = true;  // To prevent multiple clicks.\n",
              "      quickchartButtonEl.classList.add('colab-df-spinner');\n",
              "      try {\n",
              "        const charts = await google.colab.kernel.invokeFunction(\n",
              "            'suggestCharts', [key], {});\n",
              "      } catch (error) {\n",
              "        console.error('Error during call to suggestCharts:', error);\n",
              "      }\n",
              "      quickchartButtonEl.classList.remove('colab-df-spinner');\n",
              "      quickchartButtonEl.classList.add('colab-df-quickchart-complete');\n",
              "    }\n",
              "    (() => {\n",
              "      let quickchartButtonEl =\n",
              "        document.querySelector('#df-a8593bc1-373f-40b1-b606-389ce4be22df button');\n",
              "      quickchartButtonEl.style.display =\n",
              "        google.colab.kernel.accessAllowed ? 'block' : 'none';\n",
              "    })();\n",
              "  </script>\n",
              "</div>\n",
              "\n",
              "    </div>\n",
              "  </div>\n"
            ],
            "application/vnd.google.colaboratory.intrinsic+json": {
              "type": "dataframe",
              "variable_name": "df",
              "summary": "{\n  \"name\": \"df\",\n  \"rows\": 1000,\n  \"fields\": [\n    {\n      \"column\": \"ID Produto\",\n      \"properties\": {\n        \"dtype\": \"number\",\n        \"std\": 2,\n        \"min\": 1,\n        \"max\": 10,\n        \"num_unique_values\": 10,\n        \"samples\": [\n          1,\n          9,\n          4\n        ],\n        \"semantic_type\": \"\",\n        \"description\": \"\"\n      }\n    },\n    {\n      \"column\": \"Nome Produto\",\n      \"properties\": {\n        \"dtype\": \"category\",\n        \"num_unique_values\": 5,\n        \"samples\": [\n          \"Camiseta B\\u00e1sica\",\n          \"Sapato Social\",\n          \"Camisa Manga Longa\"\n        ],\n        \"semantic_type\": \"\",\n        \"description\": \"\"\n      }\n    },\n    {\n      \"column\": \"Quantidade Vendida\",\n      \"properties\": {\n        \"dtype\": \"number\",\n        \"std\": 5,\n        \"min\": 1,\n        \"max\": 20,\n        \"num_unique_values\": 20,\n        \"samples\": [\n          12,\n          18,\n          7\n        ],\n        \"semantic_type\": \"\",\n        \"description\": \"\"\n      }\n    },\n    {\n      \"column\": \"Preco Unitario\",\n      \"properties\": {\n        \"dtype\": \"number\",\n        \"std\": 26.554007530116987,\n        \"min\": 10.0,\n        \"max\": 99.9,\n        \"num_unique_values\": 938,\n        \"samples\": [\n          21.53,\n          74.49,\n          30.1\n        ],\n        \"semantic_type\": \"\",\n        \"description\": \"\"\n      }\n    },\n    {\n      \"column\": \"Data da Venda\",\n      \"properties\": {\n        \"dtype\": \"date\",\n        \"min\": \"2021-01-01 00:00:00\",\n        \"max\": \"2021-12-31 00:00:00\",\n        \"num_unique_values\": 343,\n        \"samples\": [\n          \"2021-08-30 00:00:00\",\n          \"2021-06-22 00:00:00\",\n          \"2021-01-02 00:00:00\"\n        ],\n        \"semantic_type\": \"\",\n        \"description\": \"\"\n      }\n    },\n    {\n      \"column\": \"Valor Total\",\n      \"properties\": {\n        \"dtype\": \"number\",\n        \"std\": 440.94368831745635,\n        \"min\": 10.96,\n        \"max\": 1973.0,\n        \"num_unique_values\": 995,\n        \"samples\": [\n          286.68,\n          377.96,\n          336.24\n        ],\n        \"semantic_type\": \"\",\n        \"description\": \"\"\n      }\n    },\n    {\n      \"column\": \"M\\u00eas\",\n      \"properties\": {\n        \"dtype\": \"int32\",\n        \"num_unique_values\": 12,\n        \"samples\": [\n          3,\n          2,\n          7\n        ],\n        \"semantic_type\": \"\",\n        \"description\": \"\"\n      }\n    }\n  ]\n}"
            }
          },
          "metadata": {},
          "execution_count": 9
        }
      ]
    },
    {
      "cell_type": "code",
      "source": [
        "# Calculando a quantidade vendida:\n",
        "qtde_total = df['Quantidade Vendida'].sum()\n",
        "print(f'Quantidade total vendida: {qtde_total}')"
      ],
      "metadata": {
        "id": "hI20p0IY5bE8",
        "colab": {
          "base_uri": "https://localhost:8080/"
        },
        "outputId": "0015693e-c778-400a-c954-039a3cad07de"
      },
      "execution_count": 11,
      "outputs": [
        {
          "output_type": "stream",
          "name": "stdout",
          "text": [
            "Quantidade total vendida: 10452\n"
          ]
        }
      ]
    },
    {
      "cell_type": "code",
      "source": [
        "# Calculando o valor total arrecadado:\n",
        "df['Valor Total'] = df['Quantidade Vendida'] * df['Preco Unitario']\n",
        "valor_total = df['Valor Total'].sum()\n",
        "print(f'Valor total arrecadado: R$ {valor_total:.2f}')"
      ],
      "metadata": {
        "id": "JhVrgjBv6gbR",
        "colab": {
          "base_uri": "https://localhost:8080/"
        },
        "outputId": "65062fbe-d5af-4236-f4d5-7f186a614fa5"
      },
      "execution_count": 13,
      "outputs": [
        {
          "output_type": "stream",
          "name": "stdout",
          "text": [
            "Valor total arrecadado: R$ 576793.43\n"
          ]
        }
      ]
    },
    {
      "cell_type": "code",
      "source": [
        "# Calculando o preço médio dos produtos vendidos em cada mês do ano:\n",
        "df['Mês'] = df['Data da Venda'].dt.month\n",
        "preco_medio = df.groupby('Mês')['Preco Unitario'].mean()\n",
        "print('Preço médio dos produtos vendidos em cada mês do ano:')\n",
        "print(preco_medio)"
      ],
      "metadata": {
        "id": "FBUMQJjd6lJB",
        "colab": {
          "base_uri": "https://localhost:8080/"
        },
        "outputId": "dd2291bf-517e-4a64-f6e9-4abe294c120e"
      },
      "execution_count": 14,
      "outputs": [
        {
          "output_type": "stream",
          "name": "stdout",
          "text": [
            "Preço médio dos produtos vendidos em cada mês do ano:\n",
            "Mês\n",
            "1     58.058400\n",
            "2     54.591719\n",
            "3     61.473735\n",
            "4     55.978864\n",
            "5     49.034186\n",
            "6     54.300976\n",
            "7     57.037407\n",
            "8     54.987286\n",
            "9     54.409146\n",
            "10    54.678046\n",
            "11    58.837619\n",
            "12    55.400538\n",
            "Name: Preco Unitario, dtype: float64\n"
          ]
        }
      ]
    },
    {
      "cell_type": "code",
      "source": [
        "\n",
        "# Salvando o dataframe em um arquivo CSV:\n",
        "df.to_csv('vendas.csv', index=False)"
      ],
      "metadata": {
        "id": "GXgwAeoJ5SPi"
      },
      "execution_count": null,
      "outputs": []
    }
  ]
}