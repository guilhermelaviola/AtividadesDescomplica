{
  "nbformat": 4,
  "nbformat_minor": 0,
  "metadata": {
    "colab": {
      "provenance": [],
      "authorship_tag": "ABX9TyOKhEknzIg4WReazt33Qw++",
      "include_colab_link": true
    },
    "kernelspec": {
      "name": "python3",
      "display_name": "Python 3"
    },
    "language_info": {
      "name": "python"
    }
  },
  "cells": [
    {
      "cell_type": "markdown",
      "metadata": {
        "id": "view-in-github",
        "colab_type": "text"
      },
      "source": [
        "<a href=\"https://colab.research.google.com/github/guilhermelaviola/AtividadesDescomplica/blob/main/Atividade1_Pr%C3%A1ticaIntegradoraDeCi%C3%AAnciaDeDadosComCloudComputing.ipynb\" target=\"_parent\"><img src=\"https://colab.research.google.com/assets/colab-badge.svg\" alt=\"Open In Colab\"/></a>"
      ]
    },
    {
      "cell_type": "markdown",
      "source": [
        "# Atividade\n",
        "\n",
        "Nesta atividade, vamos praticar Python com a biblioteca NumPy, com comandos básicos. É importante que você faça isso com muita tranquilidade e siga todos os passos.\n",
        "\n",
        "A atividade parece extensa, pela quantidade de passos, mas não se assuste! Um bom programador deve saber que quanto mais passos, melhor pode ficar seu sistema!"
      ],
      "metadata": {
        "id": "41IJZnUJ4Hkq"
      }
    },
    {
      "cell_type": "code",
      "source": [
        "# Importando a biblioteca NumPy.\n",
        "import numpy as np"
      ],
      "metadata": {
        "id": "DH2ztExhjcbw"
      },
      "execution_count": 1,
      "outputs": []
    },
    {
      "cell_type": "code",
      "source": [
        "# Criando um array unidimensional chamado arr com os números de 1 a 10 e imprimindo o array:\n",
        "arr = np.array([1, 2, 3, 4, 5, 6, 7, 8, 9, 10])"
      ],
      "metadata": {
        "id": "0-XfWPm-jiQI"
      },
      "execution_count": 28,
      "outputs": []
    },
    {
      "cell_type": "code",
      "source": [
        "# Criando uma matriz bidimensional chamada matriz com dimensões 3x4, preenchida com números inteiros de 1 a 12 e impriminfo a matriz:\n",
        "matriz = np.array([[1, 2, 3], [4, 5, 6], [7, 8, 9], [10, 11, 12]])"
      ],
      "metadata": {
        "id": "C8TrGULEkCJr"
      },
      "execution_count": 29,
      "outputs": []
    },
    {
      "cell_type": "code",
      "execution_count": 31,
      "metadata": {
        "id": "THoBbQ203VFq",
        "outputId": "a7a331fa-758a-45ce-a5d2-5118e9400ca8",
        "colab": {
          "base_uri": "https://localhost:8080/"
        }
      },
      "outputs": [
        {
          "output_type": "stream",
          "name": "stdout",
          "text": [
            "Array arr:  [ 1  2  3  4  5  6  7  8  9 10]\n",
            "Matriz matriz: [[ 1  2  3]\n",
            " [ 4  5  6]\n",
            " [ 7  8  9]\n",
            " [10 11 12]]\n"
          ]
        }
      ],
      "source": [
        "# Imprimindo o array arr e a matriz matriz:\n",
        "print('Array arr: ', arr)\n",
        "print('Matriz matriz:', matriz)"
      ]
    },
    {
      "cell_type": "code",
      "source": [
        "# Acessando o elemento “5” do array arr e o elemento “8” da matriz matriz e imprimindo os valores obtidos:\n",
        "el5 = arr[5]\n",
        "el8 = matriz[2:3]\n",
        "\n",
        "print('Elemento 5 do array:', el5)\n",
        "print('Elemento 8 da matriz:', el8)"
      ],
      "metadata": {
        "id": "BdDPZqcC5PgP",
        "outputId": "b22475d4-9b2c-4303-e76e-fb0728eef73b",
        "colab": {
          "base_uri": "https://localhost:8080/"
        }
      },
      "execution_count": 47,
      "outputs": [
        {
          "output_type": "stream",
          "name": "stdout",
          "text": [
            "Elemento 5 do array: 6\n",
            "Elemento 8 da matriz: [[7 8 9]]\n"
          ]
        }
      ]
    },
    {
      "cell_type": "code",
      "source": [
        "# Criando um novo array chamado arr_slice que contenha os elementos do array arr no intervalo de índices de 2 a 6 (exclusivo) e imprimindo o array:\n",
        "arr_slice = arr[2:6]\n",
        "print('arr_slice', arr_slice)"
      ],
      "metadata": {
        "id": "KVQLVIp89EL6",
        "outputId": "8d598057-31e2-4662-bd0c-9d55884de74d",
        "colab": {
          "base_uri": "https://localhost:8080/"
        }
      },
      "execution_count": 49,
      "outputs": [
        {
          "output_type": "stream",
          "name": "stdout",
          "text": [
            "arr_slice [3 4 5 6]\n"
          ]
        }
      ]
    },
    {
      "cell_type": "code",
      "source": [
        "# Realizando uma operação matemática de sua escolha (por exemplo, multiplicação por 2) em todos os elementos do array arr e armazenando o resultado em um novo array chamado arr_resultado e imprimindo o valor obtido:\n",
        "arr_resultado = arr * 2\n",
        "print('Multiplicação por 2:',arr_resultado)"
      ],
      "metadata": {
        "id": "8RuuySeN-DZ5",
        "outputId": "7be4df1a-7a00-430e-de77-986edf017802",
        "colab": {
          "base_uri": "https://localhost:8080/"
        }
      },
      "execution_count": 52,
      "outputs": [
        {
          "output_type": "stream",
          "name": "stdout",
          "text": [
            "Multiplicação por 2: [ 2  4  6  8 10 12 14 16 18 20]\n"
          ]
        }
      ]
    },
    {
      "cell_type": "code",
      "source": [
        "# Calculando a soma de todos os elementos da matriz matriz e imprimindo o valor obtido.\n",
        "soma = np.sum(matriz)\n",
        "print('Soma dos valores:', soma)"
      ],
      "metadata": {
        "id": "_MNy1FBk-HbJ",
        "outputId": "eb8c4e72-e44d-4d8b-ab19-d73af94aff81",
        "colab": {
          "base_uri": "https://localhost:8080/"
        }
      },
      "execution_count": 54,
      "outputs": [
        {
          "output_type": "stream",
          "name": "stdout",
          "text": [
            "Soma dos valores: 78\n"
          ]
        }
      ]
    },
    {
      "cell_type": "code",
      "source": [
        "# Calculando a média dos elementos do array arr e imprimindo o valor obtido.\n",
        "arr_mean = np.mean(arr)\n",
        "print('Média dos elementos:', arr_mean)"
      ],
      "metadata": {
        "id": "E-nWWe1a-Qab",
        "outputId": "144f283c-999e-49f4-b393-e1a8669aab54",
        "colab": {
          "base_uri": "https://localhost:8080/"
        }
      },
      "execution_count": 55,
      "outputs": [
        {
          "output_type": "stream",
          "name": "stdout",
          "text": [
            "Média dos elementos: 5.5\n"
          ]
        }
      ]
    },
    {
      "cell_type": "code",
      "source": [
        "# Criando uma matriz chamada matriz_transposta que seja a transposta da matriz \"matriz\", e imprimindo a matriz matriz_transposta.\n",
        "matriz_transposta = matriz.T\n",
        "print('Matriz transposta:', matriz_transposta)"
      ],
      "metadata": {
        "id": "0CZ8HWUj-S0U",
        "outputId": "bd043c34-150e-41d1-8bd4-a07c48516f4b",
        "colab": {
          "base_uri": "https://localhost:8080/"
        }
      },
      "execution_count": 57,
      "outputs": [
        {
          "output_type": "stream",
          "name": "stdout",
          "text": [
            "Matriz transposta: [[ 1  4  7 10]\n",
            " [ 2  5  8 11]\n",
            " [ 3  6  9 12]]\n"
          ]
        }
      ]
    },
    {
      "cell_type": "code",
      "source": [
        "# Concatenando o array arr com o array arr_slice e armazene o resultado em um novo array chamado arr_concatenado imprimindo o array arr_concatenado.\n",
        "arr_concatenado = np.concatenate((arr, arr_slice), axis=0)\n",
        "print('Array concatenado:', arr_concatenado)"
      ],
      "metadata": {
        "id": "uZhPmYHl-XSo",
        "outputId": "f5e1dea8-8466-4fec-e17b-8f49b70d8f32",
        "colab": {
          "base_uri": "https://localhost:8080/"
        }
      },
      "execution_count": 58,
      "outputs": [
        {
          "output_type": "stream",
          "name": "stdout",
          "text": [
            "Array concatenado: [ 1  2  3  4  5  6  7  8  9 10  3  4  5  6]\n"
          ]
        }
      ]
    }
  ]
}