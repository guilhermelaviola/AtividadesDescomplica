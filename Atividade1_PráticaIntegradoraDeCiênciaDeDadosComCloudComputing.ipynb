{
  "nbformat": 4,
  "nbformat_minor": 0,
  "metadata": {
    "colab": {
      "provenance": [],
      "authorship_tag": "ABX9TyNOegmPjFDUrYB5OlVdSrVZ",
      "include_colab_link": true
    },
    "kernelspec": {
      "name": "python3",
      "display_name": "Python 3"
    },
    "language_info": {
      "name": "python"
    }
  },
  "cells": [
    {
      "cell_type": "markdown",
      "metadata": {
        "id": "view-in-github",
        "colab_type": "text"
      },
      "source": [
        "<a href=\"https://colab.research.google.com/github/guilhermelaviola/AtividadesDescomplica/blob/main/Atividade1_Pr%C3%A1ticaIntegradoraDeCi%C3%AAnciaDeDadosComCloudComputing.ipynb\" target=\"_parent\"><img src=\"https://colab.research.google.com/assets/colab-badge.svg\" alt=\"Open In Colab\"/></a>"
      ]
    },
    {
      "cell_type": "markdown",
      "source": [
        "# Atividade\n",
        "\n",
        "Nesta atividade, vamos praticar Python com a biblioteca NumPy, com comandos básicos. É importante que você faça isso com muita tranquilidade e siga todos os passos.\n",
        "\n",
        "A atividade parece extensa, pela quantidade de passos, mas não se assuste! Um bom programador deve saber que quanto mais passos, melhor pode ficar seu sistema!"
      ],
      "metadata": {
        "id": "41IJZnUJ4Hkq"
      }
    },
    {
      "cell_type": "code",
      "source": [
        "# Importando a biblioteca NumPy.\n",
        "import numpy as np"
      ],
      "metadata": {
        "id": "DH2ztExhjcbw"
      },
      "execution_count": 1,
      "outputs": []
    },
    {
      "cell_type": "code",
      "source": [
        "# Criando um array unidimensional chamado arr com os números de 1 a 10.\n",
        "arr = np.array([1, 2, 3, 4, 5, 6, 7, 8, 9, 10])"
      ],
      "metadata": {
        "id": "0-XfWPm-jiQI"
      },
      "execution_count": 19,
      "outputs": []
    },
    {
      "cell_type": "code",
      "source": [
        "# Criando uma matriz bidimensional chamada matriz com dimensões 3x4, preenchida com números inteiros de 1 a 12.\n",
        "matriz = np.array([[1, 2, 3], [4, 5, 6], [7, 8, 9], [10, 11, 12]])"
      ],
      "metadata": {
        "id": "C8TrGULEkCJr"
      },
      "execution_count": 22,
      "outputs": []
    },
    {
      "cell_type": "code",
      "execution_count": 23,
      "metadata": {
        "id": "THoBbQ203VFq",
        "outputId": "919f0740-1ef1-47b2-a3c8-179e199e9f87",
        "colab": {
          "base_uri": "https://localhost:8080/"
        }
      },
      "outputs": [
        {
          "output_type": "stream",
          "name": "stdout",
          "text": [
            "Array:  [ 1  2  3  4  5  6  7  8  9 10]\n",
            "Matriz: [[ 1  2  3]\n",
            " [ 4  5  6]\n",
            " [ 7  8  9]\n",
            " [10 11 12]]\n"
          ]
        }
      ],
      "source": [
        "# Imprimindo o array arr e a matriz matriz.\n",
        "print('Array: ', arr)\n",
        "print('Matriz:', matriz)"
      ]
    },
    {
      "cell_type": "code",
      "source": [
        "# Acessando o elemento “5” do array arr e o elemento “8” da matriz matriz e imprimindo os valores obtidos.\n",
        "el5 = arr[5]\n",
        "el8 = matriz[2:3]\n",
        "\n",
        "print('Elemento 5 do array:', el5)\n",
        "print('Elemento 8 da matriz:', el8)"
      ],
      "metadata": {
        "id": "BdDPZqcC5PgP",
        "outputId": "005020fd-d74a-494f-cb23-2a2694f66047",
        "colab": {
          "base_uri": "https://localhost:8080/"
        }
      },
      "execution_count": 18,
      "outputs": [
        {
          "output_type": "stream",
          "name": "stdout",
          "text": [
            "Elemento 5 do array: 6\n",
            "Elemento 8 da matriz: [[7 8 9]]\n"
          ]
        }
      ]
    }
  ]
}